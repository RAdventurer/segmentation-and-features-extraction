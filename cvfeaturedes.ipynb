{
 "cells": [
  {
   "cell_type": "code",
   "execution_count": 1,
   "id": "6b1b6dfa",
   "metadata": {
    "ExecuteTime": {
     "end_time": "2023-07-15T16:58:06.873725Z",
     "start_time": "2023-07-15T16:58:06.179596Z"
    }
   },
   "outputs": [],
   "source": [
    "import numpy as np\n",
    "import cv2 as cv\n",
    "from matplotlib import pyplot as plt"
   ]
  },
  {
   "cell_type": "code",
   "execution_count": 9,
   "id": "13e01afe",
   "metadata": {
    "ExecuteTime": {
     "end_time": "2023-07-15T17:08:48.376155Z",
     "start_time": "2023-07-15T17:08:38.940979Z"
    }
   },
   "outputs": [],
   "source": [
    "img = cv.imread('ng1.jpg')\n",
    "gray = cv.cvtColor(img, cv.COLOR_BGR2GRAY)\n",
    "gray = np.float32(gray)\n",
    "harris = cv.cornerHarris(gray, 2,3,0.04)\n",
    "img[harris>0.01*harris.max()]= [255,0,0]\n",
    "cv.imshow('harris',img)\n",
    "cv.waitKey(0)\n",
    "cv.destroyAllWindows()"
   ]
  },
  {
   "cell_type": "code",
   "execution_count": 10,
   "id": "e3b99f1b",
   "metadata": {
    "ExecuteTime": {
     "end_time": "2023-07-15T20:45:55.012451Z",
     "start_time": "2023-07-15T20:45:52.837907Z"
    }
   },
   "outputs": [
    {
     "name": "stdout",
     "output_type": "stream",
     "text": [
      "Found existing installation: jedi 0.17.2\n",
      "Uninstalling jedi-0.17.2:\n",
      "  Successfully uninstalled jedi-0.17.2\n",
      "Note: you may need to restart the kernel to use updated packages.\n"
     ]
    }
   ],
   "source": [
    "pip uninstall jedi --yes\n"
   ]
  },
  {
   "cell_type": "code",
   "execution_count": null,
   "id": "cdfe00d8",
   "metadata": {},
   "outputs": [],
   "source": []
  }
 ],
 "metadata": {
  "kernelspec": {
   "display_name": "Python 3 (ipykernel)",
   "language": "python",
   "name": "python3"
  },
  "language_info": {
   "codemirror_mode": {
    "name": "ipython",
    "version": 3
   },
   "file_extension": ".py",
   "mimetype": "text/x-python",
   "name": "python",
   "nbconvert_exporter": "python",
   "pygments_lexer": "ipython3",
   "version": "3.11.4"
  }
 },
 "nbformat": 4,
 "nbformat_minor": 5
}
