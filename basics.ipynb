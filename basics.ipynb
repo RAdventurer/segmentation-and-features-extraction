{
 "cells": [
  {
   "cell_type": "code",
   "execution_count": 6,
   "id": "1f261abb",
   "metadata": {},
   "outputs": [],
   "source": [
    "import cv2\n",
    "import numpy as np\n",
    "import os"
   ]
  },
  {
   "cell_type": "code",
   "execution_count": null,
   "id": "6e9718e8",
   "metadata": {},
   "outputs": [],
   "source": []
  },
  {
   "cell_type": "code",
   "execution_count": 7,
   "id": "6c49b8f3",
   "metadata": {},
   "outputs": [],
   "source": [
    "# Sample descriptors for illustration purposes\n",
    "descriptors_1 = np.array([[1, 2, 3], [4, 5, 6]])\n",
    "descriptors_2 = np.array([[7, 8, 9], [10, 11, 12]])\n",
    "descriptors_3 = np.array([[13, 14, 15], [16, 17, 18]])\n",
    "\n",
    "# Create a list of tuples containing image paths and descriptors\n",
    "des_list = [\n",
    "    ('ng.jpg', descriptors_1),\n",
    "    ('ng.jpg', descriptors_2),\n",
    "    ('ng.jpg', descriptors_3)\n",
    "]\n",
    "\n",
    "# Initialize descriptors with the descriptors of the first image\n",
    "descriptors = des_list[0][1]\n",
    "\n",
    "# Loop through the remaining images and stack their descriptors vertically\n",
    "for image_path, descriptor in des_list[1:]:\n",
    "    descriptors = np.vstack((descriptors, descriptor))\n"
   ]
  },
  {
   "cell_type": "code",
   "execution_count": 8,
   "id": "3393097f",
   "metadata": {},
   "outputs": [
    {
     "name": "stdout",
     "output_type": "stream",
     "text": [
      "<class 'list'>\n"
     ]
    }
   ],
   "source": [
    "print (type(des_list))"
   ]
  },
  {
   "cell_type": "code",
   "execution_count": 10,
   "id": "240356fc",
   "metadata": {},
   "outputs": [
    {
     "name": "stdout",
     "output_type": "stream",
     "text": [
      "<class 'numpy.ndarray'>\n"
     ]
    }
   ],
   "source": [
    "print (type(des_list[0][1]))"
   ]
  },
  {
   "cell_type": "code",
   "execution_count": 22,
   "id": "5deb4621",
   "metadata": {},
   "outputs": [
    {
     "data": {
      "text/plain": [
       "'ng.jpg'"
      ]
     },
     "execution_count": 22,
     "metadata": {},
     "output_type": "execute_result"
    }
   ],
   "source": [
    "des_list[0][0]\n"
   ]
  },
  {
   "cell_type": "code",
   "execution_count": 15,
   "id": "57474cd9",
   "metadata": {},
   "outputs": [],
   "source": [
    "feature_detectors = [\n",
    "    cv2.ORB_create(30),\n",
    "    cv2.BRISK_create(30),\n",
    "]\n",
    "feature_detectors [i]= descriptors"
   ]
  },
  {
   "cell_type": "code",
   "execution_count": 16,
   "id": "a1f8c398",
   "metadata": {},
   "outputs": [
    {
     "data": {
      "text/plain": [
       "[array([[ 1,  2,  3],\n",
       "        [ 4,  5,  6],\n",
       "        [ 7,  8,  9],\n",
       "        [10, 11, 12],\n",
       "        [13, 14, 15],\n",
       "        [16, 17, 18]]),\n",
       " < cv2.BRISK 00000202F3F6D6D0>]"
      ]
     },
     "execution_count": 16,
     "metadata": {},
     "output_type": "execute_result"
    }
   ],
   "source": [
    "feature_detectors\n"
   ]
  },
  {
   "cell_type": "code",
   "execution_count": 19,
   "id": "876b692d",
   "metadata": {},
   "outputs": [
    {
     "data": {
      "text/plain": [
       "< cv2.BRISK 00000202F3F6D6D0>"
      ]
     },
     "execution_count": 19,
     "metadata": {},
     "output_type": "execute_result"
    }
   ],
   "source": [
    "feature_detectors [1]"
   ]
  },
  {
   "cell_type": "code",
   "execution_count": null,
   "id": "0699aec9",
   "metadata": {},
   "outputs": [],
   "source": []
  }
 ],
 "metadata": {
  "kernelspec": {
   "display_name": "Python 3 (ipykernel)",
   "language": "python",
   "name": "python3"
  },
  "language_info": {
   "codemirror_mode": {
    "name": "ipython",
    "version": 3
   },
   "file_extension": ".py",
   "mimetype": "text/x-python",
   "name": "python",
   "nbconvert_exporter": "python",
   "pygments_lexer": "ipython3",
   "version": "3.11.4"
  }
 },
 "nbformat": 4,
 "nbformat_minor": 5
}
