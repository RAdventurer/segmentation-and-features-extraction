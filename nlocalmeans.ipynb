{
 "cells": [
  {
   "cell_type": "code",
   "execution_count": null,
   "id": "03879399-0ca8-4996-aece-f8f366606450",
   "metadata": {},
   "outputs": [],
   "source": [
    "import numpy as np\n",
    "from matplotlib import pyplot as plt\n",
    "from skimage import img_as_float\n",
    "from skimage import io\n",
    "from scipy import ndimage as nd\n",
    "from skimage.restoration import denoise_nl_means, estimate_sigma\n",
    "\n",
    "def gaussian_kernel(size, size_y=None):\n",
    "    size = int(size)\n",
    "    if not size_y:\n",
    "        size_y = size\n",
    "    else:\n",
    "        size_y = int(size_y)\n",
    "    x, y = np.mgrid[-size:size+1, -size_y:size_y+1]\n",
    "    g = np.exp(-(x**2 / float(size) + y**2 / float(size_y)))\n",
    "    return g / g.sum()\n",
    "\n",
    "img = io.imread(\"img_00068.jpg\")\n",
    "gaussian_image = nd.gaussian_filter(img, sigma=3)\n",
    "plt.imsave('A.jpg', gaussian_image)\n",
    "\n",
    "img = img_as_float(img)\n",
    "sigma_est = np.mean(estimate_sigma(img, channel_axis=-1))\n",
    "nlm = denoise_nl_means(img, h=1.15 * sigma_est, fast_mode=True, patch_size=5, patch_distance=3)\n"
   ]
  }
 ],
 "metadata": {
  "kernelspec": {
   "display_name": "Python 3 (ipykernel)",
   "language": "python",
   "name": "python3"
  },
  "language_info": {
   "codemirror_mode": {
    "name": "ipython",
    "version": 3
   },
   "file_extension": ".py",
   "mimetype": "text/x-python",
   "name": "python",
   "nbconvert_exporter": "python",
   "pygments_lexer": "ipython3",
   "version": "3.11.4"
  }
 },
 "nbformat": 4,
 "nbformat_minor": 5
}
