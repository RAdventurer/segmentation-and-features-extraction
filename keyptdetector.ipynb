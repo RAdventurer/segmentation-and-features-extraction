{
 "cells": [
  {
   "cell_type": "code",
   "execution_count": 2,
   "id": "2338d72e-eea1-4288-98b0-dec4ccca5641",
   "metadata": {
    "ExecuteTime": {
     "end_time": "2023-07-21T04:47:15.278399Z",
     "start_time": "2023-07-21T04:47:15.258896Z"
    }
   },
   "outputs": [
    {
     "ename": "SyntaxError",
     "evalue": "invalid syntax. Perhaps you forgot a comma? (2116616480.py, line 7)",
     "output_type": "error",
     "traceback": [
      "\u001b[1;36m  Cell \u001b[1;32mIn[2], line 7\u001b[1;36m\u001b[0m\n\u001b[1;33m    [0, 0, 0, 0, 0, 0 0 0 0 0 0],\u001b[0m\n\u001b[1;37m                    ^\u001b[0m\n\u001b[1;31mSyntaxError\u001b[0m\u001b[1;31m:\u001b[0m invalid syntax. Perhaps you forgot a comma?\n"
     ]
    }
   ],
   "source": [
    "import numpy as np\n",
    "from scipy.ndimage import binary_erosion\n",
    "\n",
    "# Given 5x5 structuring element\n",
    "selem = np.array([[0, 0, 0, 0, 0, 0, 0, 0, 0, 0, 0],\n",
    " [0, 0, 0, 0, 0, 0, 1, 0, 0, 0, 0],\n",
    " [0, 0, 0, 0, 0, 0 0 0 0 0 0],\n",
    " [0 0 0 0 0 0 0 0 0 0 0],\n",
    " [0 0 0 0 0 0 0 0 0 0 0],\n",
    " [0 0 0 0 0 0 0 0 0 0 0],\n",
    " [0 0 0 0 0 0 0 0 0 0 0],\n",
    " [0 0 0 0 0 0 0 0 0 0 0],\n",
    " [0 0 0 0 0 0 0 0 0 0 0],\n",
    " [0 0 0 0 0 0 0 0 0 0 0],\n",
    " [0 0 0 0 0 0 0 0 0 0 0]])\n",
    "\n",
    "# Create the 11x11 matrix\n",
    "rows, cols = 11, 11\n",
    "matrix = np.zeros((rows, cols), dtype=int)\n",
    "\n",
    "# Perform binary erosion with the inverse of the structuring element on the matrix\n",
    "inverse_selem = 1 - selem  # Inverse the structuring element\n",
    "eroded_matrix = binary_erosion(matrix, structure=inverse_selem)\n",
    "\n",
    "# Print the resulting eroded matrix\n",
    "print(eroded_matrix)\n"
   ]
  },
  {
   "cell_type": "code",
   "execution_count": null,
   "id": "5c761e9e",
   "metadata": {},
   "outputs": [],
   "source": []
  }
 ],
 "metadata": {
  "kernelspec": {
   "display_name": "Python 3 (ipykernel)",
   "language": "python",
   "name": "python3"
  },
  "language_info": {
   "codemirror_mode": {
    "name": "ipython",
    "version": 3
   },
   "file_extension": ".py",
   "mimetype": "text/x-python",
   "name": "python",
   "nbconvert_exporter": "python",
   "pygments_lexer": "ipython3",
   "version": "3.11.4"
  }
 },
 "nbformat": 4,
 "nbformat_minor": 5
}
