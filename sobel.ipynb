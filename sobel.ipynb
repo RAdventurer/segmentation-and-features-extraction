{
 "cells": [
  {
   "cell_type": "code",
   "execution_count": 20,
   "id": "42c58820-8c2e-4769-94d2-b95b187fe988",
   "metadata": {
    "tags": []
   },
   "outputs": [
    {
     "name": "stderr",
     "output_type": "stream",
     "text": [
      "C:\\Users\\ico\\AppData\\Local\\Temp\\ipykernel_1792\\346909162.py:58: UserWarning: Possible precision loss converting image of type float64 to uint8 as required by rank filters. Convert manually using skimage.util.img_as_ubyte to silence this warning.\n",
      "  time_list_a, area_list_a, entropy_img_a, binary_a = process_images(path_a)\n"
     ]
    },
    {
     "ename": "ValueError",
     "evalue": "Images of type float must be between -1 and 1.",
     "output_type": "error",
     "traceback": [
      "\u001b[1;31m---------------------------------------------------------------------------\u001b[0m",
      "\u001b[1;31mValueError\u001b[0m                                Traceback (most recent call last)",
      "Cell \u001b[1;32mIn[20], line 58\u001b[0m\n\u001b[0;32m     55\u001b[0m path_a \u001b[38;5;241m=\u001b[39m \u001b[38;5;124m\"\u001b[39m\u001b[38;5;124maa\u001b[39m\u001b[38;5;124m\"\u001b[39m\n\u001b[0;32m     56\u001b[0m path_b \u001b[38;5;241m=\u001b[39m \u001b[38;5;124m\"\u001b[39m\u001b[38;5;124mbb\u001b[39m\u001b[38;5;124m\"\u001b[39m\n\u001b[1;32m---> 58\u001b[0m time_list_a, area_list_a, entropy_img_a, binary_a \u001b[38;5;241m=\u001b[39m \u001b[43mprocess_images\u001b[49m\u001b[43m(\u001b[49m\u001b[43mpath_a\u001b[49m\u001b[43m)\u001b[49m\n\u001b[0;32m     59\u001b[0m time_list_b, area_list_b, entropy_img_b, binary_b \u001b[38;5;241m=\u001b[39m process_images(path_b)\n",
      "Cell \u001b[1;32mIn[20], line 24\u001b[0m, in \u001b[0;36mprocess_images\u001b[1;34m(path)\u001b[0m\n\u001b[0;32m     22\u001b[0m entropy_img \u001b[38;5;241m=\u001b[39m entropy(img, disk(\u001b[38;5;241m22\u001b[39m))\n\u001b[0;32m     23\u001b[0m entropy_img \u001b[38;5;241m=\u001b[39m entropy_img \u001b[38;5;241m*\u001b[39m \u001b[38;5;241m255.0\u001b[39m  \u001b[38;5;66;03m# Scale to the range 0-255\u001b[39;00m\n\u001b[1;32m---> 24\u001b[0m entropy_img \u001b[38;5;241m=\u001b[39m \u001b[43mimg_as_ubyte\u001b[49m\u001b[43m(\u001b[49m\u001b[43mentropy_img\u001b[49m\u001b[43m)\u001b[49m  \u001b[38;5;66;03m# Convert entropy_img to uint8\u001b[39;00m\n\u001b[0;32m     25\u001b[0m entropy_img_list\u001b[38;5;241m.\u001b[39mappend(entropy_img)\n\u001b[0;32m     26\u001b[0m thresh \u001b[38;5;241m=\u001b[39m threshold_otsu(entropy_img)\n",
      "File \u001b[1;32m~\\AppData\\Local\\Programs\\Python\\Python311\\Lib\\site-packages\\skimage\\util\\dtype.py:550\u001b[0m, in \u001b[0;36mimg_as_ubyte\u001b[1;34m(image, force_copy)\u001b[0m\n\u001b[0;32m    529\u001b[0m \u001b[38;5;28;01mdef\u001b[39;00m \u001b[38;5;21mimg_as_ubyte\u001b[39m(image, force_copy\u001b[38;5;241m=\u001b[39m\u001b[38;5;28;01mFalse\u001b[39;00m):\n\u001b[0;32m    530\u001b[0m \u001b[38;5;250m    \u001b[39m\u001b[38;5;124;03m\"\"\"Convert an image to 8-bit unsigned integer format.\u001b[39;00m\n\u001b[0;32m    531\u001b[0m \n\u001b[0;32m    532\u001b[0m \u001b[38;5;124;03m    Parameters\u001b[39;00m\n\u001b[1;32m   (...)\u001b[0m\n\u001b[0;32m    548\u001b[0m \n\u001b[0;32m    549\u001b[0m \u001b[38;5;124;03m    \"\"\"\u001b[39;00m\n\u001b[1;32m--> 550\u001b[0m     \u001b[38;5;28;01mreturn\u001b[39;00m \u001b[43m_convert\u001b[49m\u001b[43m(\u001b[49m\u001b[43mimage\u001b[49m\u001b[43m,\u001b[49m\u001b[43m \u001b[49m\u001b[43mnp\u001b[49m\u001b[38;5;241;43m.\u001b[39;49m\u001b[43muint8\u001b[49m\u001b[43m,\u001b[49m\u001b[43m \u001b[49m\u001b[43mforce_copy\u001b[49m\u001b[43m)\u001b[49m\n",
      "File \u001b[1;32m~\\AppData\\Local\\Programs\\Python\\Python311\\Lib\\site-packages\\skimage\\util\\dtype.py:292\u001b[0m, in \u001b[0;36m_convert\u001b[1;34m(image, dtype, force_copy, uniform)\u001b[0m\n\u001b[0;32m    289\u001b[0m     \u001b[38;5;28;01mreturn\u001b[39;00m image\u001b[38;5;241m.\u001b[39mastype(dtype_out)\n\u001b[0;32m    291\u001b[0m \u001b[38;5;28;01mif\u001b[39;00m np\u001b[38;5;241m.\u001b[39mmin(image) \u001b[38;5;241m<\u001b[39m \u001b[38;5;241m-\u001b[39m\u001b[38;5;241m1.0\u001b[39m \u001b[38;5;129;01mor\u001b[39;00m np\u001b[38;5;241m.\u001b[39mmax(image) \u001b[38;5;241m>\u001b[39m \u001b[38;5;241m1.0\u001b[39m:\n\u001b[1;32m--> 292\u001b[0m     \u001b[38;5;28;01mraise\u001b[39;00m \u001b[38;5;167;01mValueError\u001b[39;00m(\u001b[38;5;124m\"\u001b[39m\u001b[38;5;124mImages of type float must be between -1 and 1.\u001b[39m\u001b[38;5;124m\"\u001b[39m)\n\u001b[0;32m    293\u001b[0m \u001b[38;5;66;03m# floating point -> integer\u001b[39;00m\n\u001b[0;32m    294\u001b[0m \u001b[38;5;66;03m# use float type that can represent output integer type\u001b[39;00m\n\u001b[0;32m    295\u001b[0m computation_type \u001b[38;5;241m=\u001b[39m _dtype_itemsize(itemsize_out, dtype_in,\n\u001b[0;32m    296\u001b[0m                                    np\u001b[38;5;241m.\u001b[39mfloat32, np\u001b[38;5;241m.\u001b[39mfloat64)\n",
      "\u001b[1;31mValueError\u001b[0m: Images of type float must be between -1 and 1."
     ]
    }
   ],
   "source": [
    "from skimage.filters import threshold_otsu\n",
    "import os\n",
    "import glob\n",
    "import numpy as np\n",
    "from skimage import io, color, img_as_ubyte\n",
    "from skimage.filters.rank import entropy\n",
    "from skimage.morphology import disk\n",
    "import pandas as pd\n",
    "\n",
    "def process_images(path):\n",
    "    time = 0\n",
    "    time_list = []\n",
    "    area_list = []\n",
    "    entropy_img_list = []\n",
    "    binary_img_list = []\n",
    "    image_names = []\n",
    "    \n",
    "    for time, file in enumerate(glob.glob(path + \"/*.*\")):\n",
    "        img = io.imread(file)\n",
    "        if img.ndim == 3:\n",
    "            img = color.rgb2gray(img)  # Convert to grayscale if the image is RGB\n",
    "        entropy_img = entropy(img, disk(22))\n",
    "        entropy_img = entropy_img * 255.0  # Scale to the range 0-255\n",
    "        entropy_img = img_as_ubyte(entropy_img)  # Convert entropy_img to uint8\n",
    "        entropy_img_list.append(entropy_img)\n",
    "        thresh = threshold_otsu(entropy_img)\n",
    "        binary_img = entropy_img >= thresh\n",
    "        binary_img_list.append(binary_img)\n",
    "        scratch_area = np.sum(binary_img)\n",
    "        time_list.append(time)\n",
    "        area_list.append(scratch_area)\n",
    "\n",
    "        # Extract the image name from the file path and store it in the image_names list\n",
    "        image_names.append(os.path.basename(file))\n",
    "\n",
    "    # Create a DataFrame for each time step and concatenate them\n",
    "    dfs = []\n",
    "    for t, entropy_img, binary_img in zip(time_list, entropy_img_list, binary_img_list):\n",
    "        df_time = pd.DataFrame({\n",
    "            'Time': [t] * entropy_img.size,\n",
    "            'Area': [np.sum(binary_img)] * entropy_img.size,\n",
    "            'Image Name': [os.path.basename(file)] * entropy_img.size,\n",
    "            'Original Image': img.reshape(-1),\n",
    "            'Entropy': entropy_img.reshape(-1)\n",
    "        })\n",
    "        dfs.append(df_time)\n",
    "\n",
    "    df = pd.concat(dfs, ignore_index=True)\n",
    "\n",
    "    output_file = 'excel_bp.xlsx'\n",
    "    df.to_excel(output_file, index=False)\n",
    "\n",
    "    return time_list, area_list, entropy_img_list, binary_img_list\n",
    "\n",
    "path_a = \"aa\"\n",
    "path_b = \"bb\"\n",
    "\n",
    "time_list_a, area_list_a, entropy_img_a, binary_a = process_images(path_a)\n",
    "time_list_b, area_list_b, entropy_img_b, binary_b = process_images(path_b)\n"
   ]
  },
  {
   "cell_type": "code",
   "execution_count": null,
   "id": "a544164a-c424-4634-b6d7-e69fa389b5aa",
   "metadata": {},
   "outputs": [],
   "source": []
  }
 ],
 "metadata": {
  "kernelspec": {
   "display_name": "Python 3 (ipykernel)",
   "language": "python",
   "name": "python3"
  },
  "language_info": {
   "codemirror_mode": {
    "name": "ipython",
    "version": 3
   },
   "file_extension": ".py",
   "mimetype": "text/x-python",
   "name": "python",
   "nbconvert_exporter": "python",
   "pygments_lexer": "ipython3",
   "version": "3.11.4"
  }
 },
 "nbformat": 4,
 "nbformat_minor": 5
}
