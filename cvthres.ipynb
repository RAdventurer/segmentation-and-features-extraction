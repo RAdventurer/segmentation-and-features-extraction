{
 "cells": [
  {
   "cell_type": "code",
   "execution_count": 1,
   "id": "b0d261f2",
   "metadata": {
    "ExecuteTime": {
     "end_time": "2023-07-15T16:40:04.868359Z",
     "start_time": "2023-07-15T16:40:04.063315Z"
    },
    "tags": []
   },
   "outputs": [],
   "source": [
    "import numpy as np\n",
    "import cv2 as cv\n",
    "from matplotlib import pyplot as plt"
   ]
  },
  {
   "cell_type": "code",
   "execution_count": 2,
   "id": "c36a3ded",
   "metadata": {
    "ExecuteTime": {
     "end_time": "2023-07-15T16:42:44.938863Z",
     "start_time": "2023-07-15T16:42:35.744989Z"
    },
    "tags": []
   },
   "outputs": [],
   "source": [
    "img = cv.imread('ng.jpg', 0)\n",
    "cv.imshow('gray one:',img)\n",
    "cv.waitKey(0)\n",
    "cv.destroyAllWindows()"
   ]
  },
  {
   "cell_type": "code",
   "execution_count": 3,
   "id": "b5276ef2",
   "metadata": {
    "ExecuteTime": {
     "end_time": "2023-07-15T16:44:22.211763Z",
     "start_time": "2023-07-15T16:44:21.702847Z"
    },
    "tags": []
   },
   "outputs": [
    {
     "data": {
      "text/plain": [
       "(array([   4.,    4.,    9.,   20.,   38.,   75.,   59.,  137.,  102.,\n",
       "         152.,  146.,   81.,  116.,   60.,  129.,   78.,  114.,   73.,\n",
       "          98.,   69.,  112.,  111.,   94.,  130.,   75.,  137.,   79.,\n",
       "         156.,  109.,  175.,  199.,  109.,  189.,  177.,  236.,  146.,\n",
       "         221.,  139.,  214.,  169.,  291.,  261.,  222.,  356.,  213.,\n",
       "         340.,  244.,  395.,  258.,  453.,  450.,  288.,  520.,  369.,\n",
       "         563.,  431.,  780.,  598., 1047.,  767., 1318., 1616., 1249.,\n",
       "        2351., 1966., 3513., 2755., 3857., 2359., 2737., 1880.,  875.,\n",
       "        1181.,  668.,  875.,  473.,  656.,  411.,  546.,  331.,  477.,\n",
       "         478.,  338.,  419.,  262.,  395.,  233.,  365.,  241.,  338.,\n",
       "         337.,  178.,  288.,  173.,  223.,  121.,  123.,   61.,   77.,\n",
       "          45.]),\n",
       " array([  0.  ,   2.55,   5.1 ,   7.65,  10.2 ,  12.75,  15.3 ,  17.85,\n",
       "         20.4 ,  22.95,  25.5 ,  28.05,  30.6 ,  33.15,  35.7 ,  38.25,\n",
       "         40.8 ,  43.35,  45.9 ,  48.45,  51.  ,  53.55,  56.1 ,  58.65,\n",
       "         61.2 ,  63.75,  66.3 ,  68.85,  71.4 ,  73.95,  76.5 ,  79.05,\n",
       "         81.6 ,  84.15,  86.7 ,  89.25,  91.8 ,  94.35,  96.9 ,  99.45,\n",
       "        102.  , 104.55, 107.1 , 109.65, 112.2 , 114.75, 117.3 , 119.85,\n",
       "        122.4 , 124.95, 127.5 , 130.05, 132.6 , 135.15, 137.7 , 140.25,\n",
       "        142.8 , 145.35, 147.9 , 150.45, 153.  , 155.55, 158.1 , 160.65,\n",
       "        163.2 , 165.75, 168.3 , 170.85, 173.4 , 175.95, 178.5 , 181.05,\n",
       "        183.6 , 186.15, 188.7 , 191.25, 193.8 , 196.35, 198.9 , 201.45,\n",
       "        204.  , 206.55, 209.1 , 211.65, 214.2 , 216.75, 219.3 , 221.85,\n",
       "        224.4 , 226.95, 229.5 , 232.05, 234.6 , 237.15, 239.7 , 242.25,\n",
       "        244.8 , 247.35, 249.9 , 252.45, 255.  ]),\n",
       " <BarContainer object of 100 artists>)"
      ]
     },
     "execution_count": 3,
     "metadata": {},
     "output_type": "execute_result"
    },
    {
     "data": {
      "image/png": "[encoded data removed]",
      "text/plain": [
       "<Figure size 640x480 with 1 Axes>"
      ]
     },
     "metadata": {},
     "output_type": "display_data"
    }
   ],
   "source": [
    "plt.hist(img.flat, bins =100, range=(0,255))"
   ]
  },
  {
   "cell_type": "code",
   "execution_count": 4,
   "id": "7508c84f",
   "metadata": {
    "ExecuteTime": {
     "end_time": "2023-07-15T16:48:22.863426Z",
     "start_time": "2023-07-15T16:48:09.934986Z"
    },
    "tags": []
   },
   "outputs": [],
   "source": [
    "ret, th = cv.threshold(img, 0, 255,cv.THRESH_BINARY + cv.THRESH_OTSU)\n",
    "cv.imshow('threshold',th)\n",
    "cv.waitKey(0)\n",
    "cv.destroyAllWindows()"
   ]
  },
  {
   "cell_type": "code",
   "execution_count": 5,
   "id": "3ea8c5bf",
   "metadata": {
    "ExecuteTime": {
     "end_time": "2023-07-15T16:51:21.401058Z",
     "start_time": "2023-07-15T16:50:56.102969Z"
    },
    "tags": []
   },
   "outputs": [],
   "source": [
    "kernel = np.ones((3,3), np.uint8)\n",
    "erosing = cv.erode(th, kernel, iterations = 1)\n",
    "cv.imshow('erosing',erosing)\n",
    "cv.waitKey(0)\n",
    "cv.destroyAllWindows()"
   ]
  },
  {
   "cell_type": "code",
   "execution_count": 6,
   "id": "4da78338",
   "metadata": {
    "ExecuteTime": {
     "end_time": "2023-07-15T16:52:49.094276Z",
     "start_time": "2023-07-15T16:52:47.087979Z"
    },
    "tags": []
   },
   "outputs": [],
   "source": [
    "dilation = cv.dilate(erosing, kernel, iterations = 1)\n",
    "cv.imshow('dilation',dilation)\n",
    "cv.waitKey(0)\n",
    "cv.destroyAllWindows()"
   ]
  },
  {
   "cell_type": "code",
   "execution_count": 7,
   "id": "6d586973",
   "metadata": {
    "ExecuteTime": {
     "end_time": "2023-07-15T20:45:34.919304Z",
     "start_time": "2023-07-15T20:45:34.869941Z"
    },
    "tags": []
   },
   "outputs": [
    {
     "name": "stderr",
     "output_type": "stream",
     "text": [
      "'%config' n'est pas reconnu en tant que commande interne\n",
      "ou externe, un programme ex‚cutable ou un fichier de commandes.\n"
     ]
    }
   ],
   "source": [
    "!%config Completer.use_jedi = False\n",
    "\n"
   ]
  },
  {
   "cell_type": "code",
   "execution_count": null,
   "id": "56b94b58",
   "metadata": {},
   "outputs": [],
   "source": []
  },
  {
   "cell_type": "code",
   "execution_count": null,
   "id": "9ece41dd-ffb9-426c-ada8-256ab44209a5",
   "metadata": {},
   "outputs": [],
   "source": []
  }
 ],
 "metadata": {
  "kernelspec": {
   "display_name": "Python 3 (ipykernel)",
   "language": "python",
   "name": "python3"
  },
  "language_info": {
   "codemirror_mode": {
    "name": "ipython",
    "version": 3
   },
   "file_extension": ".py",
   "mimetype": "text/x-python",
   "name": "python",
   "nbconvert_exporter": "python",
   "pygments_lexer": "ipython3",
   "version": "3.11.4"
  }
 },
 "nbformat": 4,
 "nbformat_minor": 5
}
